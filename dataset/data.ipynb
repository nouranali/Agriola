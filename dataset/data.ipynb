{
  "nbformat": 4,
  "nbformat_minor": 0,
  "metadata": {
    "colab": {
      "name": "data.ipynb",
      "provenance": [],
      "collapsed_sections": [],
      "include_colab_link": true
    },
    "kernelspec": {
      "name": "python3",
      "display_name": "Python 3"
    }
  },
  "cells": [
    {
      "cell_type": "markdown",
      "metadata": {
        "id": "view-in-github",
        "colab_type": "text"
      },
      "source": [
        "<a href=\"https://colab.research.google.com/github/nouranali/Agriola/blob/Dev/data.ipynb\" target=\"_parent\"><img src=\"https://colab.research.google.com/assets/colab-badge.svg\" alt=\"Open In Colab\"/></a>"
      ]
    },
    {
      "cell_type": "code",
      "metadata": {
        "id": "DE7GCfzpaV_5",
        "colab": {
          "base_uri": "https://localhost:8080/"
        },
        "outputId": "66dae22e-e24c-413b-f6fb-5c6bbf9f6796"
      },
      "source": [
        "!pip install geetools"
      ],
      "execution_count": null,
      "outputs": [
        {
          "output_type": "stream",
          "text": [
            "Requirement already satisfied: geetools in /usr/local/lib/python3.6/dist-packages (0.6.7)\n",
            "Requirement already satisfied: pandas in /usr/local/lib/python3.6/dist-packages (from geetools) (1.1.5)\n",
            "Requirement already satisfied: requests in /usr/local/lib/python3.6/dist-packages (from geetools) (2.23.0)\n",
            "Requirement already satisfied: pyshp in /usr/local/lib/python3.6/dist-packages (from geetools) (2.1.3)\n",
            "Requirement already satisfied: python-dateutil>=2.7.3 in /usr/local/lib/python3.6/dist-packages (from pandas->geetools) (2.8.1)\n",
            "Requirement already satisfied: numpy>=1.15.4 in /usr/local/lib/python3.6/dist-packages (from pandas->geetools) (1.19.5)\n",
            "Requirement already satisfied: pytz>=2017.2 in /usr/local/lib/python3.6/dist-packages (from pandas->geetools) (2018.9)\n",
            "Requirement already satisfied: urllib3!=1.25.0,!=1.25.1,<1.26,>=1.21.1 in /usr/local/lib/python3.6/dist-packages (from requests->geetools) (1.24.3)\n",
            "Requirement already satisfied: idna<3,>=2.5 in /usr/local/lib/python3.6/dist-packages (from requests->geetools) (2.10)\n",
            "Requirement already satisfied: certifi>=2017.4.17 in /usr/local/lib/python3.6/dist-packages (from requests->geetools) (2020.12.5)\n",
            "Requirement already satisfied: chardet<4,>=3.0.2 in /usr/local/lib/python3.6/dist-packages (from requests->geetools) (3.0.4)\n",
            "Requirement already satisfied: six>=1.5 in /usr/local/lib/python3.6/dist-packages (from python-dateutil>=2.7.3->pandas->geetools) (1.15.0)\n"
          ],
          "name": "stdout"
        }
      ]
    },
    {
      "cell_type": "code",
      "metadata": {
        "id": "_OgOwAdq8CYk"
      },
      "source": [
        "import ee\n",
        "import sys\n",
        "from geetools import batch\n",
        "sys.path.append('../..')"
      ],
      "execution_count": null,
      "outputs": []
    },
    {
      "cell_type": "code",
      "metadata": {
        "id": "06NpncWv8GRu",
        "colab": {
          "base_uri": "https://localhost:8080/"
        },
        "outputId": "b2b06b59-8cbf-469a-ca2e-474b9a15a7f3"
      },
      "source": [
        "ee.Authenticate()"
      ],
      "execution_count": null,
      "outputs": [
        {
          "output_type": "stream",
          "text": [
            "To authorize access needed by Earth Engine, open the following URL in a web browser and follow the instructions. If the web browser does not start automatically, please manually browse the URL below.\n",
            "\n",
            "    https://accounts.google.com/o/oauth2/auth?client_id=517222506229-vsmmajv00ul0bs7p89v5m89qs8eb9359.apps.googleusercontent.com&scope=https%3A%2F%2Fwww.googleapis.com%2Fauth%2Fearthengine+https%3A%2F%2Fwww.googleapis.com%2Fauth%2Fdevstorage.full_control&redirect_uri=urn%3Aietf%3Awg%3Aoauth%3A2.0%3Aoob&response_type=code&code_challenge=_IFdS_lRGE549WoRa4diIvYyOsE1iK0Hb2J91nKtXvg&code_challenge_method=S256\n",
            "\n",
            "The authorization workflow will generate a code, which you should paste in the box below. \n",
            "Enter verification code: 4/1AY0e-g4zr8OFNz627vz2DQTIr4f0PRZm4blzSeQ7OfP36mI7jPaaoHS8Ui0\n",
            "\n",
            "Successfully saved authorization token.\n"
          ],
          "name": "stdout"
        }
      ]
    },
    {
      "cell_type": "code",
      "metadata": {
        "id": "HQrpKQG48JeG"
      },
      "source": [
        "ee.Initialize()"
      ],
      "execution_count": null,
      "outputs": []
    },
    {
      "cell_type": "code",
      "metadata": {
        "id": "BxbPwu442u25"
      },
      "source": [
        "from google.colab import auth\n",
        "auth.authenticate_user()"
      ],
      "execution_count": null,
      "outputs": []
    },
    {
      "cell_type": "code",
      "metadata": {
        "id": "PW7KK0VkKCiC"
      },
      "source": [
        "kafr_eldawar = ee.Geometry.Polygon(\n",
        "          [[[30.010664545617054, 31.22622190940858],\n",
        "          [30.010664545617054, 31.00871994014533],\n",
        "          [30.282576166710804, 31.00871994014533],\n",
        "          [30.282576166710804, 31.22622190940858]]])\n",
        "tanta = ee.Geometry.Polygon(\n",
        "      [[[30.84904177961027, 30.90472638590492],\n",
        "          [30.84904177961027, 30.717781520568895],\n",
        "          [31.160778840157146, 30.717781520568895],\n",
        "          [31.160778840157146, 30.90472638590492]]])\n",
        "banha = ee.Geometry.Polygon(\n",
        "         [[[30.99084910457843, 30.602346714493077],\n",
        "          [30.99084910457843, 30.396457076384714],\n",
        "          [31.292286482508118, 30.396457076384714],\n",
        "          [31.292286482508118, 30.602346714493077]]])\n",
        "abukebir =ee.Geometry.Polygon(\n",
        "        [[[31.498354503771573, 30.79320445621308],\n",
        "          [31.498354503771573, 30.59126690400198],\n",
        "          [31.779192516466885, 30.59126690400198],\n",
        "          [31.779192516466885, 30.79320445621308]]])\n",
        "sharqia =ee.Geometry.Polygon(\n",
        "          [[[31.735544736452415, 31.017445790866553],\n",
        "          [31.735544736452415, 30.79710705576286],\n",
        "          [32.02187591321022, 30.79710705576286],\n",
        "          [32.02187591321022, 31.017445790866553]]])\n",
        "beheira_etay =ee.Geometry.Polygon(\n",
        "        [[[30.607240555881685, 30.91915988236637],\n",
        "          [30.607240555881685, 30.841666031877185],\n",
        "          [30.72397029220981, 30.841666031877185],\n",
        "          [30.72397029220981, 30.91915988236637]]])\n",
        "damanhour= ee.Geometry.Polygon(\n",
        "        [[[30.35944996682125, 31.176831503730508],\n",
        "          [30.35944996682125, 30.93801637342867],\n",
        "          [30.70002613869625, 30.93801637342867],\n",
        "          [30.70002613869625, 31.176831503730508]]])\n",
        "beheria_qarya =ee.Geometry.Polygon([[[29.92208727510924, 31.210954277934704],\n",
        "          [29.92208727510924, 30.980466975286554],\n",
        "          [30.239317499718616, 30.980466975286554],\n",
        "          [30.239317499718616, 31.210954277934704]]])\n",
        "sadat_city =ee.Geometry.Polygon(\n",
        "          [[[30.610790189652562, 30.685912973109424],\n",
        "          [30.610790189652562, 30.48020062310915],\n",
        "          [30.945873197465062, 30.48020062310915],\n",
        "          [30.945873197465062, 30.685912973109424]]])\n",
        "fayoum =ee.Geometry.Polygon(\n",
        "        [[[30.719987836814674, 29.395285636356306],\n",
        "          [30.719987836814674, 29.231834373940167],\n",
        "          [30.975419965720924, 29.231834373940167],\n",
        "          [30.975419965720924, 29.395285636356306]]])\n",
        "north_cairo =ee.Geometry.Polygon(\n",
        "       [[[30.999731782718424, 30.32251807596025],\n",
        "          [30.999731782718424, 30.107722241930073],\n",
        "          [31.277136567874674, 30.107722241930073],\n",
        "          [31.277136567874674, 30.32251807596025]]])\n",
        "geiza = ee.Geometry.Polygon(\n",
        "        [[[30.344914048794042, 31.176951124053794],\n",
        "          [30.344914048794042, 30.969934387886607],\n",
        "          [30.689610093715917, 30.969934387886607],\n",
        "          [30.689610093715917, 31.176951124053794]]])\n",
        "kafr_elsheikh=ee.Geometry.Polygon([[[30.787947260460804, 31.201557586984947],\n",
        "          [30.787947260460804, 30.98282170866017],\n",
        "          [31.088011347374866, 30.98282170866017],\n",
        "          [31.088011347374866, 31.201557586984947]]])\n",
        "housh_eissa = ee.Geometry.Polygon(\n",
        "       [[[30.115574449184667, 30.96522422714074],\n",
        "          [30.115574449184667, 30.757747415909016],\n",
        "          [30.432804673794042, 30.757747415909016],\n",
        "          [30.432804673794042, 30.96522422714074]]])\n",
        "mansoura = ee.Geometry.Polygon(\n",
        "        [[[31.22209972573809, 31.12666080711216],\n",
        "          [31.22209972573809, 30.910698134412705],\n",
        "          [31.528343622222465, 30.910698134412705],\n",
        "          [31.528343622222465, 31.12666080711216]]])\n",
        "biyla = ee.Geometry.Polygon(\n",
        "        [[[31.10256209514123, 31.348557021697697],\n",
        "          [31.10256209514123, 31.134274952324155],\n",
        "          [31.39970793864709, 31.134274952324155],\n",
        "          [31.39970793864709, 31.348557021697697]]])\n",
        "bishla =  ee.Geometry.Polygon(\n",
        "        [[[31.105467408297283, 30.90565567214729],\n",
        "          [31.105467408297283, 30.692699052018185],\n",
        "          [31.40591773330949, 30.692699052018185],\n",
        "          [31.40591773330949, 30.90565567214729]]])\n",
        "gamaleya = ee.Geometry.Polygon(\n",
        "        [[[31.71372703635976, 31.218877981048482],\n",
        "          [31.71372703635976, 31.000549889532685],\n",
        "          [32.013361969831436, 31.000549889532685],\n",
        "          [32.013361969831436, 31.218877981048482]]])\n",
        "elkasasin =ee.Geometry.Polygon(\n",
        "        [[[31.823963882143147, 30.573094084980557],\n",
        "          [31.823963882143147, 30.35558922218954],\n",
        "          [32.12445712249959, 30.35558922218954],\n",
        "          [32.12445712249959, 30.573094084980557]]])\n",
        "portsaid =ee.Geometry.Polygon(\n",
        "        [[[32.240767490084544, 31.098749301535886],\n",
        "          [32.240767490084544, 30.884491183873347],\n",
        "          [32.53945828598298, 30.884491183873347],\n",
        "          [32.53945828598298, 31.098749301535886]]])\n",
        "mutubas = ee.Geometry.Polygon(\n",
        "        [[[30.37131700441752, 31.428081296873557],\n",
        "          [30.37131700441752, 31.21471410822848],\n",
        "          [30.668548678611856, 31.21471410822848],\n",
        "          [30.668548678611856, 31.428081296873557]]])\n",
        "damietta =ee.Geometry.Polygon(\n",
        "        [[[31.631979098459055, 31.45751635204986],\n",
        "          [31.631982606715972, 31.238780473745603],\n",
        "          [31.93285676470928, 31.238780473745603],\n",
        "          [31.932860272966206, 31.45751635204986]]])\n",
        "roi= [damietta,mutubas,portsaid,elkasasin,gamaleya,bishla,biyla,mansoura,\n",
        "      housh_eissa,kafr_elsheikh,geiza,north_cairo,fayoum,sadat_city,\n",
        "      beheria_qarya,damanhour,beheira_etay,sharqia,abukebir,banha,\n",
        "      tanta,kafr_eldawar]\n",
        "regions= ['damietta','mutubas','portsaid','elkasasin','gamaleya','bishla','biyla','mansoura',\n",
        "      'housh_eissa','kafr_elsheikh','geiza','north_cairo','fayoum','sadat_city',\n",
        "     'beheria_qarya','damanhour','beheira_etay',\n",
        "      'sharqia','abukebir','banha',\n",
        "      'tanta','kafr_eldawar']\n",
        "OUTPUT_BUCKET = 'rgb1'\n",
        "collections_list = [\"LANDSAT/LC08/C01/T1_SR\",\"LANDSAT/LE07/C01/T1_SR\",\"LANDSAT/LT05/C01/T1_SR\"]\n",
        "#years= [1984,1995,2005,2010,2015,2020,1984,2020]\n",
        "month = ['06','07','08','09']"
      ],
      "execution_count": null,
      "outputs": []
    },
    {
      "cell_type": "code",
      "metadata": {
        "id": "9SurAVFr8WBH"
      },
      "source": [
        "def initial_collection(start_date,end_date,collection_id,roi,cloud_cover=10):\n",
        "  #1- create image collection for the specified satellite, starting from start_date and ending at end_date with a certain cloud cover to filter\n",
        "  ls= ee.ImageCollection(collection_id).filter(ee.Filter.lt('CLOUD_COVER',cloud_cover)).filterDate(start_date,end_date).filterBounds(roi)\n",
        "  return ls"
      ],
      "execution_count": null,
      "outputs": []
    },
    {
      "cell_type": "code",
      "metadata": {
        "id": "H4EaVyCL8YxR"
      },
      "source": [
        "def mask_landsat(image):\n",
        "    #2- mask shadows,cloud in rasters, return rgb image  \n",
        "   cloudShadowBitMask = ee.Number(2).pow(3).int()\n",
        "   cloudsBitMask = ee.Number(2).pow(5).int()\n",
        "   qa = image.select('pixel_qa')\n",
        "   mask = qa.bitwiseAnd(cloudShadowBitMask).eq(0).And(qa.bitwiseAnd(cloudsBitMask).eq(0))\n",
        "   return image.updateMask(mask).select(['B4','B3','B2']).multiply(0.0001)"
      ],
      "execution_count": null,
      "outputs": []
    },
    {
      "cell_type": "code",
      "metadata": {
        "id": "GFapIuO08aJA"
      },
      "source": [
        "def merge_images(roi,collection):\n",
        "  #3- create one image for the ROI using median of pixel values\n",
        "  return collection.map(mask_landsat).median().clip(roi)"
      ],
      "execution_count": null,
      "outputs": []
    },
    {
      "cell_type": "code",
      "metadata": {
        "id": "lSvcGKiY8cGo"
      },
      "source": [
        "def filter_date_img(collection_id,y,roi):\n",
        "  ls=[]\n",
        "  #for i in range(2):\n",
        "    #if collection_id==\"LANDSAT/LE07/C01/T1_SR\" and (y1==2003 or y2==2003):\n",
        "      #continue\n",
        "  for j in range(0,4):\n",
        "    ls_raw=initial_collection(start_date='{y}-{m}-01'.format(y=y,m=month[j]),end_date='{y}-{m}-30'.format(y=y,m=month[j]),collection_id=collection_id,roi=roi)\n",
        "    ls_raw=merge_images(roi=roi,collection=ls_raw)\n",
        "    ls.append(ls_raw)\n",
        "    #print(y[i])\n",
        "  final_coll=ee.ImageCollection(ls)\n",
        "  return final_coll"
      ],
      "execution_count": null,
      "outputs": []
    },
    {
      "cell_type": "code",
      "metadata": {
        "id": "A7BGnJHHiDeJ"
      },
      "source": [
        "def make_folders(i,folder_name,collection,OUTPUT_BUCKET=OUTPUT_BUCKET):\r\n",
        "    batch.imagecollection.toCloudStorage(collection, bucket=OUTPUT_BUCKET, folder='areas_rgb/{}/{}'.format(regions[i],folder_name), scale=30, verbose=True)"
      ],
      "execution_count": null,
      "outputs": []
    },
    {
      "cell_type": "code",
      "metadata": {
        "id": "taDdD0QscsPK"
      },
      "source": [
        "def create_dataset_of_region(roi=roi):\n",
        "  for i in range(len(roi)):\n",
        "      #img_collection_ls51=filter_date_img(y=1984,collection_id=collections_list[2],roi=roi[i])\n",
        "      #make_folders(i=i,folder_name='Ls05{}'.format(1984),collection=img_collection_ls51)\n",
        "      #img_collection_ls52=filter_date_img(y=1995,collection_id=collections_list[2],roi=roi[i])\n",
        "      #make_folders(i=i,folder_name='Ls05{}'.format(1995),collection=img_collection_ls52)\n",
        "      #print('LS05')\n",
        "      #img_collection_ls71=filter_date_img(y=2005,collection_id=collections_list[1],roi=roi[i])\n",
        "      #make_folders(i=i,folder_name='Ls07{}'.format(2005),collection=img_collection_ls71)\n",
        "      #img_collection_ls72=filter_date_img(y=2010,collection_id=collections_list[1],roi=roi[i])\n",
        "      #make_folders(i=i,folder_name='Ls07{}'.format(2010),collection=img_collection_ls72)\n",
        "      #print('LS07')\n",
        "      img_collection_ls81=filter_date_img(y=2015,collection_id=collections_list[0],roi=roi[i])\n",
        "      make_folders(i=i,folder_name='Ls08{}'.format(2015),collection=img_collection_ls81)\n",
        "      img_collection_ls82=filter_date_img(y=2020,collection_id=collections_list[0],roi=roi[i])\n",
        "      make_folders(i=i,folder_name='Ls08{}'.format(2020),collection=img_collection_ls82)\n",
        "      #print('LS08')\n",
        "      print(regions[i])"
      ],
      "execution_count": null,
      "outputs": []
    },
    {
      "cell_type": "code",
      "metadata": {
        "id": "NEeai6EYEiJq",
        "colab": {
          "base_uri": "https://localhost:8080/"
        },
        "outputId": "52d2a8dd-a001-440e-a2b0-1065ac21251d"
      },
      "source": [
        "create_dataset_of_region()"
      ],
      "execution_count": null,
      "outputs": [
        {
          "output_type": "stream",
          "text": [
            "adding task 0 to list\n",
            "adding task 1 to list\n",
            "adding task 2 to list\n",
            "adding task 3 to list\n",
            "adding task 0 to list\n",
            "adding task 1 to list\n",
            "adding task 2 to list\n",
            "adding task 3 to list\n",
            "damietta\n",
            "adding task 0 to list\n",
            "adding task 1 to list\n",
            "adding task 2 to list\n",
            "adding task 3 to list\n",
            "adding task 0 to list\n",
            "adding task 1 to list\n",
            "adding task 2 to list\n",
            "adding task 3 to list\n",
            "mutubas\n",
            "adding task 0 to list\n",
            "adding task 1 to list\n",
            "adding task 2 to list\n",
            "adding task 3 to list\n",
            "adding task 0 to list\n",
            "adding task 1 to list\n",
            "adding task 2 to list\n",
            "adding task 3 to list\n",
            "portsaid\n",
            "adding task 0 to list\n",
            "adding task 1 to list\n",
            "adding task 2 to list\n",
            "adding task 3 to list\n",
            "adding task 0 to list\n",
            "adding task 1 to list\n",
            "adding task 2 to list\n",
            "adding task 3 to list\n",
            "elkasasin\n",
            "adding task 0 to list\n",
            "adding task 1 to list\n",
            "adding task 2 to list\n",
            "adding task 3 to list\n",
            "adding task 0 to list\n",
            "adding task 1 to list\n",
            "adding task 2 to list\n",
            "adding task 3 to list\n",
            "gamaleya\n",
            "adding task 0 to list\n",
            "adding task 1 to list\n",
            "adding task 2 to list\n",
            "adding task 3 to list\n",
            "adding task 0 to list\n",
            "adding task 1 to list\n",
            "adding task 2 to list\n",
            "adding task 3 to list\n",
            "bishla\n",
            "adding task 0 to list\n",
            "adding task 1 to list\n",
            "adding task 2 to list\n",
            "adding task 3 to list\n",
            "adding task 0 to list\n",
            "adding task 1 to list\n",
            "adding task 2 to list\n",
            "adding task 3 to list\n",
            "biyla\n",
            "adding task 0 to list\n",
            "adding task 1 to list\n",
            "adding task 2 to list\n",
            "adding task 3 to list\n",
            "adding task 0 to list\n",
            "adding task 1 to list\n",
            "adding task 2 to list\n",
            "adding task 3 to list\n",
            "mansoura\n",
            "adding task 0 to list\n",
            "adding task 1 to list\n",
            "adding task 2 to list\n",
            "adding task 3 to list\n",
            "adding task 0 to list\n",
            "adding task 1 to list\n",
            "adding task 2 to list\n",
            "adding task 3 to list\n",
            "housh_eissa\n",
            "adding task 0 to list\n",
            "adding task 1 to list\n",
            "adding task 2 to list\n",
            "adding task 3 to list\n",
            "adding task 0 to list\n",
            "adding task 1 to list\n",
            "adding task 2 to list\n",
            "adding task 3 to list\n",
            "kafr_elsheikh\n",
            "adding task 0 to list\n",
            "adding task 1 to list\n",
            "adding task 2 to list\n",
            "adding task 3 to list\n",
            "adding task 0 to list\n",
            "adding task 1 to list\n",
            "adding task 2 to list\n",
            "adding task 3 to list\n",
            "geiza\n",
            "adding task 0 to list\n",
            "adding task 1 to list\n",
            "adding task 2 to list\n",
            "adding task 3 to list\n",
            "adding task 0 to list\n",
            "adding task 1 to list\n",
            "adding task 2 to list\n",
            "adding task 3 to list\n",
            "north_cairo\n",
            "adding task 0 to list\n",
            "adding task 1 to list\n",
            "adding task 2 to list\n",
            "adding task 3 to list\n",
            "adding task 0 to list\n",
            "adding task 1 to list\n",
            "adding task 2 to list\n",
            "adding task 3 to list\n",
            "fayoum\n",
            "adding task 0 to list\n",
            "adding task 1 to list\n",
            "adding task 2 to list\n",
            "adding task 3 to list\n",
            "adding task 0 to list\n",
            "adding task 1 to list\n",
            "adding task 2 to list\n",
            "adding task 3 to list\n",
            "sadat_city\n",
            "adding task 0 to list\n",
            "adding task 1 to list\n",
            "adding task 2 to list\n",
            "adding task 3 to list\n",
            "adding task 0 to list\n",
            "adding task 1 to list\n",
            "adding task 2 to list\n",
            "adding task 3 to list\n",
            "beheria_qarya\n",
            "adding task 0 to list\n",
            "adding task 1 to list\n",
            "adding task 2 to list\n",
            "adding task 3 to list\n",
            "adding task 0 to list\n",
            "adding task 1 to list\n",
            "adding task 2 to list\n",
            "adding task 3 to list\n",
            "damanhour\n",
            "adding task 0 to list\n",
            "adding task 1 to list\n",
            "adding task 2 to list\n",
            "adding task 3 to list\n",
            "adding task 0 to list\n",
            "adding task 1 to list\n",
            "adding task 2 to list\n",
            "adding task 3 to list\n",
            "beheira_etay\n",
            "adding task 0 to list\n",
            "adding task 1 to list\n",
            "adding task 2 to list\n",
            "adding task 3 to list\n",
            "adding task 0 to list\n",
            "adding task 1 to list\n",
            "adding task 2 to list\n",
            "adding task 3 to list\n",
            "sharqia\n",
            "adding task 0 to list\n",
            "adding task 1 to list\n",
            "adding task 2 to list\n",
            "adding task 3 to list\n",
            "adding task 0 to list\n",
            "adding task 1 to list\n",
            "adding task 2 to list\n",
            "adding task 3 to list\n",
            "abukebir\n",
            "adding task 0 to list\n",
            "adding task 1 to list\n",
            "adding task 2 to list\n",
            "adding task 3 to list\n",
            "adding task 0 to list\n",
            "adding task 1 to list\n",
            "adding task 2 to list\n",
            "adding task 3 to list\n",
            "banha\n",
            "adding task 0 to list\n",
            "adding task 1 to list\n",
            "adding task 2 to list\n",
            "adding task 3 to list\n",
            "adding task 0 to list\n",
            "adding task 1 to list\n",
            "adding task 2 to list\n",
            "adding task 3 to list\n",
            "tanta\n",
            "adding task 0 to list\n",
            "adding task 1 to list\n",
            "adding task 2 to list\n",
            "adding task 3 to list\n",
            "adding task 0 to list\n",
            "adding task 1 to list\n",
            "adding task 2 to list\n",
            "adding task 3 to list\n",
            "kafr_eldawar\n"
          ],
          "name": "stdout"
        }
      ]
    }
  ]
}