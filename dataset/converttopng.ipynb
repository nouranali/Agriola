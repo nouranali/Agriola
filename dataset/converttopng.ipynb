{
  "nbformat": 4,
  "nbformat_minor": 0,
  "metadata": {
    "colab": {
      "name": "converttopng.ipynb",
      "provenance": [],
      "collapsed_sections": [],
      "mount_file_id": "1_IWfNHqZ12U53aMrJQE3Mu-RbnG8yu3S",
      "authorship_tag": "ABX9TyMUMXU/PZ6ntChIOm2Ey/uA",
      "include_colab_link": true
    },
    "kernelspec": {
      "display_name": "Python 3",
      "name": "python3"
    }
  },
  "cells": [
    {
      "cell_type": "markdown",
      "metadata": {
        "id": "view-in-github",
        "colab_type": "text"
      },
      "source": [
        "<a href=\"https://colab.research.google.com/github/nouranali/Agriola/blob/Dev/converttopng.ipynb\" target=\"_parent\"><img src=\"https://colab.research.google.com/assets/colab-badge.svg\" alt=\"Open In Colab\"/></a>"
      ]
    },
    {
      "cell_type": "code",
      "metadata": {
        "id": "XCudhNju3g8b"
      },
      "source": [
        "import cv2\n",
        "import numpy as np\n",
        "import matplotlib.pyplot as plt\n",
        "from osgeo import gdal, ogr\n",
        "import os \n",
        "from google.colab import auth\n",
        "auth.authenticate_user()"
      ],
      "execution_count": 1,
      "outputs": []
    },
    {
      "cell_type": "code",
      "metadata": {
        "id": "Eq2rFfZHJK_X"
      },
      "source": [
        "from google.colab import drive\n",
        "drive.mount('/drive')"
      ],
      "execution_count": null,
      "outputs": []
    },
    {
      "cell_type": "markdown",
      "metadata": {
        "id": "iR23dOGpgje5"
      },
      "source": [
        "# Install google cloud SDK to get data from storage bucket"
      ]
    },
    {
      "cell_type": "code",
      "metadata": {
        "id": "t6pnYQt14fL2"
      },
      "source": [
        "!curl https://sdk.cloud.google.com | bash"
      ],
      "execution_count": null,
      "outputs": []
    },
    {
      "cell_type": "code",
      "metadata": {
        "id": "TlY5wMFI4w7G"
      },
      "source": [
        "!gcloud init"
      ],
      "execution_count": null,
      "outputs": []
    },
    {
      "cell_type": "code",
      "metadata": {
        "id": "FHd0vwhq5Rm7"
      },
      "source": [
        "!gsutil cp -r 'gs://rgb1/areas_rgb' 'areas_rgb'"
      ],
      "execution_count": null,
      "outputs": []
    },
    {
      "cell_type": "code",
      "metadata": {
        "id": "ULUQYFzR92Z0"
      },
      "source": [
        "paths=[x[0] for x in os.walk('/content/drive/MyDrive/areas_rgb')]"
      ],
      "execution_count": 27,
      "outputs": []
    },
    {
      "cell_type": "markdown",
      "metadata": {
        "id": "JovFXpung3IR"
      },
      "source": [
        "## Convert from .tif extension to png uint8\n"
      ]
    },
    {
      "cell_type": "code",
      "metadata": {
        "id": "MWIPpDqK7i4Y"
      },
      "source": [
        "for p in paths:\n",
        "  for file in os.listdir(p): \n",
        "    print(file)\n",
        "    if file.endswith(\".tif\"): \n",
        "        img = gdal.Open(file)\n",
        "        file_name, file_ext = os.path.splitext(file)\n",
        "        print(file_name)\n",
        "        x=gdal.Translate('{}/{}.png'.format(p,file_name), '{}/{}.tif'.format(p,file_name), format='PNG', outputType=np.uint8(), scaleParams=[[0,3000]])\n",
        "        os.remove(os.path.join(p,'{}.xml'.format(file_name)))\n",
        "        os.remove(os.path.join(p,'{}.tif'.format(file_name)))"
      ],
      "execution_count": null,
      "outputs": []
    },
    {
      "cell_type": "code",
      "metadata": {
        "id": "YNhPJRoL2n_G"
      },
      "source": [
        "!mv areas_rgb /drive/MyDrive"
      ],
      "execution_count": null,
      "outputs": []
    }
  ]
}